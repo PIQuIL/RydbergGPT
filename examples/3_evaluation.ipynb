{
 "cells": [
  {
   "attachments": {},
   "cell_type": "markdown",
   "metadata": {},
   "source": [
    "# Calculating different observables"
   ]
  },
  {
   "cell_type": "code",
   "execution_count": 5,
   "metadata": {},
   "outputs": [
    {
     "name": "stdout",
     "output_type": "stream",
     "text": [
      "The autoreload extension is already loaded. To reload it, use:\n",
      "  %reload_ext autoreload\n"
     ]
    }
   ],
   "source": [
    "%load_ext autoreload\n",
    "%autoreload 2\n",
    "\n",
    "import os \n",
    "import pathlib\n",
    "\n",
    "import networkx as nx\n",
    "import torch\n",
    "from torch_geometric.data import Batch\n",
    "\n",
    "from rydberggpt.data.dataclasses import BaseGraph, GridGraph\n",
    "from rydberggpt.data.graph_structures import get_graph\n",
    "from rydberggpt.data.loading.rydberg_dataset import get_rydberg_dataloader\n",
    "from rydberggpt.data.utils_graph import networkx_to_pyg_data\n",
    "from rydberggpt.models.rydberg_encoder_decoder import get_rydberg_graph_encoder_decoder\n",
    "from rydberggpt.observables.rydberg_energy import get_rydberg_energy\n",
    "from rydberggpt.utils import create_config_from_yaml, load_yaml_file\n",
    "from rydberggpt.utils_ckpt import get_ckpt_path, get_model_from_ckpt\n",
    "notebook_path = os.path.abspath(\"\")\n",
    "parent_directory = pathlib.Path(notebook_path).parent\n",
    "log_folder_path = os.path.join(parent_directory, \"logs/lightning_logs/\")\n",
    "\n",
    "device = \"cuda\" if torch.cuda.is_available() else \"cpu\""
   ]
  },
  {
   "attachments": {},
   "cell_type": "markdown",
   "metadata": {},
   "source": [
    "## Loading the model \n",
    "\n",
    "First we need to load a checkpointed model. "
   ]
  },
  {
   "cell_type": "code",
   "execution_count": 6,
   "metadata": {},
   "outputs": [],
   "source": [
    "from_ckpt = 25"
   ]
  },
  {
   "cell_type": "code",
   "execution_count": 7,
   "metadata": {},
   "outputs": [],
   "source": [
    "log_path = get_ckpt_path(from_ckpt=from_ckpt, log_dir=log_folder_path)\n",
    "# config\n",
    "yaml_dict = load_yaml_file(log_path, \"hparams.yaml\")\n",
    "config = create_config_from_yaml(yaml_dict)\n",
    "# model\n",
    "model = get_model_from_ckpt(\n",
    "    log_path,\n",
    "    model=get_rydberg_graph_encoder_decoder(config),\n",
    ")\n"
   ]
  },
  {
   "attachments": {},
   "cell_type": "markdown",
   "metadata": {},
   "source": [
    "## Define the graph structure \n",
    "\n",
    "Lets define the graph that we want to condition our transformer on."
   ]
  },
  {
   "cell_type": "code",
   "execution_count": 8,
   "metadata": {},
   "outputs": [],
   "source": [
    "##### GENERATE GRAPH #####\n",
    "num_samples = 5\n",
    "n_rows = 3\n",
    "n_cols = 3\n",
    "num_atoms = n_rows * n_cols\n",
    "\n",
    "graph_config = GridGraph(\n",
    "    num_atoms=num_atoms,\n",
    "    graph_name=\"grid_graph\",\n",
    "    V_0=1.0,\n",
    "    delta=1.0,\n",
    "    omega=1.0,\n",
    "    beta=1.0,\n",
    "    n_rows=n_rows,\n",
    "    n_cols=n_cols,\n",
    ")\n",
    "\n",
    "graph = get_graph(graph_config)\n",
    "adj_matrix = nx.adjacency_matrix(graph)\n",
    "V = adj_matrix.todense()\n",
    "V = torch.tensor(V, dtype=torch.float32)\n",
    "\n",
    "\n",
    "node_features = torch.tensor(\n",
    "    [graph_config.delta, graph_config.omega, graph_config.beta, graph_config.V_0],\n",
    "    dtype=torch.float32,\n",
    ")\n",
    "\n",
    "assert config.in_node_dim == len(\n",
    "    node_features\n",
    "), \"Node features do not match with input shape of the gnn\"\n",
    "\n",
    "pyg_graph = networkx_to_pyg_data(graph, node_features)\n",
    "repeated_data_list = [pyg_graph.clone() for _ in range(num_samples)]\n",
    "batch_graph = Batch.from_data_list(repeated_data_list)"
   ]
  },
  {
   "attachments": {},
   "cell_type": "markdown",
   "metadata": {},
   "source": [
    "## Sampling from the model"
   ]
  },
  {
   "cell_type": "code",
   "execution_count": 11,
   "metadata": {},
   "outputs": [
    {
     "name": "stdout",
     "output_type": "stream",
     "text": [
      "Generating atom 9/9\r"
     ]
    }
   ],
   "source": [
    "##### GENERATE SAMPLES #####\n",
    "samples = model.get_samples(\n",
    "    batch_size=num_samples, cond=batch_graph, num_atoms=num_atoms\n",
    ")"
   ]
  },
  {
   "cell_type": "code",
   "execution_count": 10,
   "metadata": {},
   "outputs": [
    {
     "name": "stdout",
     "output_type": "stream",
     "text": [
      "Energy: -8.6127 +/- 3.8227\n"
     ]
    }
   ],
   "source": [
    "##### EVALUATE ENERGY #####\n",
    "model.get_log_probs\n",
    "energy = get_rydberg_energy(\n",
    "    get_log_probs=model.get_log_probs,\n",
    "    V=V,\n",
    "    omega=graph_config.omega,\n",
    "    delta=graph_config.delta,\n",
    "    samples=samples,\n",
    "    cond=batch_graph,\n",
    "    num_atoms=num_atoms,\n",
    "    device=device,\n",
    ")\n",
    "# print the average energy\n",
    "print(f\"Energy: {energy.mean().item():.4f} +/- {energy.std().item():.4f}\")"
   ]
  }
 ],
 "metadata": {
  "kernelspec": {
   "display_name": "qgpt",
   "language": "python",
   "name": "python3"
  },
  "language_info": {
   "codemirror_mode": {
    "name": "ipython",
    "version": 3
   },
   "file_extension": ".py",
   "mimetype": "text/x-python",
   "name": "python",
   "nbconvert_exporter": "python",
   "pygments_lexer": "ipython3",
   "version": "3.9.16"
  },
  "orig_nbformat": 4
 },
 "nbformat": 4,
 "nbformat_minor": 2
}
